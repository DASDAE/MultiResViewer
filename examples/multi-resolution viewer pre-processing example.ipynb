{
 "cells": [
  {
   "cell_type": "markdown",
   "id": "212f25b0",
   "metadata": {},
   "source": [
    "This notebook demonstrates the pre-processing procedure for the multi-resolution viewer. The pre-processing will downsample the data into different resolutions and save it in a user-defined folder. The actual viewer needs access to both the processed data and the raw data."
   ]
  },
  {
   "cell_type": "code",
   "execution_count": 1,
   "id": "ee3b69a0",
   "metadata": {},
   "outputs": [],
   "source": [
    "import dascore as dc\n",
    "from SpoolProcessing import proc,utils\n",
    "from MultiResViewer import process\n",
    "import os, shutil"
   ]
  },
  {
   "cell_type": "code",
   "execution_count": 2,
   "id": "465dcde6",
   "metadata": {},
   "outputs": [
    {
     "data": {
      "text/html": [
       "<div>\n",
       "<style scoped>\n",
       "    .dataframe tbody tr th:only-of-type {\n",
       "        vertical-align: middle;\n",
       "    }\n",
       "\n",
       "    .dataframe tbody tr th {\n",
       "        vertical-align: top;\n",
       "    }\n",
       "\n",
       "    .dataframe thead th {\n",
       "        text-align: right;\n",
       "    }\n",
       "</style>\n",
       "<table border=\"1\" class=\"dataframe\">\n",
       "  <thead>\n",
       "    <tr style=\"text-align: right;\">\n",
       "      <th></th>\n",
       "      <th>cable_id</th>\n",
       "      <th>d_distance</th>\n",
       "      <th>d_time</th>\n",
       "      <th>data_category</th>\n",
       "      <th>data_type</th>\n",
       "      <th>dims</th>\n",
       "      <th>distance_max</th>\n",
       "      <th>distance_min</th>\n",
       "      <th>file_format</th>\n",
       "      <th>file_version</th>\n",
       "      <th>instrument_id</th>\n",
       "      <th>network</th>\n",
       "      <th>path</th>\n",
       "      <th>station</th>\n",
       "      <th>tag</th>\n",
       "      <th>time_max</th>\n",
       "      <th>time_min</th>\n",
       "    </tr>\n",
       "  </thead>\n",
       "  <tbody>\n",
       "    <tr>\n",
       "      <th>0</th>\n",
       "      <td></td>\n",
       "      <td>0.816762</td>\n",
       "      <td>0 days 00:00:00.000241111</td>\n",
       "      <td></td>\n",
       "      <td>velocity</td>\n",
       "      <td>time, distance</td>\n",
       "      <td>360.192001</td>\n",
       "      <td>0.816762</td>\n",
       "      <td>TERRA15</td>\n",
       "      <td>5</td>\n",
       "      <td>TrebleIISystem04</td>\n",
       "      <td></td>\n",
       "      <td>/UTC-YMD20230531-HMS164210.544/DASRCN_hammer_v...</td>\n",
       "      <td></td>\n",
       "      <td></td>\n",
       "      <td>2023-05-31 17:18:32.957606912</td>\n",
       "      <td>2023-05-31 17:14:00.145932288</td>\n",
       "    </tr>\n",
       "    <tr>\n",
       "      <th>1</th>\n",
       "      <td></td>\n",
       "      <td>0.816762</td>\n",
       "      <td>0 days 00:00:00.000241111</td>\n",
       "      <td></td>\n",
       "      <td>velocity</td>\n",
       "      <td>time, distance</td>\n",
       "      <td>360.192001</td>\n",
       "      <td>0.816762</td>\n",
       "      <td>TERRA15</td>\n",
       "      <td>5</td>\n",
       "      <td>TrebleIISystem04</td>\n",
       "      <td></td>\n",
       "      <td>/UTC-YMD20230531-HMS164210.544/DASRCN_hammer_v...</td>\n",
       "      <td></td>\n",
       "      <td></td>\n",
       "      <td>2023-05-31 17:00:21.709966080</td>\n",
       "      <td>2023-05-31 16:55:48.898329344</td>\n",
       "    </tr>\n",
       "    <tr>\n",
       "      <th>2</th>\n",
       "      <td></td>\n",
       "      <td>0.816762</td>\n",
       "      <td>0 days 00:00:00.000241111</td>\n",
       "      <td></td>\n",
       "      <td>velocity</td>\n",
       "      <td>time, distance</td>\n",
       "      <td>360.192001</td>\n",
       "      <td>0.816762</td>\n",
       "      <td>TERRA15</td>\n",
       "      <td>5</td>\n",
       "      <td>TrebleIISystem04</td>\n",
       "      <td></td>\n",
       "      <td>/UTC-YMD20230531-HMS164210.544/DASRCN_hammer_v...</td>\n",
       "      <td></td>\n",
       "      <td></td>\n",
       "      <td>2023-05-31 17:09:27.333759488</td>\n",
       "      <td>2023-05-31 17:04:54.522100736</td>\n",
       "    </tr>\n",
       "    <tr>\n",
       "      <th>3</th>\n",
       "      <td></td>\n",
       "      <td>0.816762</td>\n",
       "      <td>0 days 00:00:00.000241111</td>\n",
       "      <td></td>\n",
       "      <td>velocity</td>\n",
       "      <td>time, distance</td>\n",
       "      <td>360.192001</td>\n",
       "      <td>0.816762</td>\n",
       "      <td>TERRA15</td>\n",
       "      <td>5</td>\n",
       "      <td>TrebleIISystem04</td>\n",
       "      <td></td>\n",
       "      <td>/UTC-YMD20230531-HMS164210.544/DASRCN_hammer_v...</td>\n",
       "      <td></td>\n",
       "      <td></td>\n",
       "      <td>2023-05-31 17:23:05.769501184</td>\n",
       "      <td>2023-05-31 17:18:32.957847808</td>\n",
       "    </tr>\n",
       "    <tr>\n",
       "      <th>4</th>\n",
       "      <td></td>\n",
       "      <td>0.816762</td>\n",
       "      <td>0 days 00:00:00.000241111</td>\n",
       "      <td></td>\n",
       "      <td>velocity</td>\n",
       "      <td>time, distance</td>\n",
       "      <td>360.192001</td>\n",
       "      <td>0.816762</td>\n",
       "      <td>TERRA15</td>\n",
       "      <td>5</td>\n",
       "      <td>TrebleIISystem04</td>\n",
       "      <td></td>\n",
       "      <td>/UTC-YMD20230531-HMS164210.544/DASRCN_hammer_v...</td>\n",
       "      <td></td>\n",
       "      <td></td>\n",
       "      <td>2023-05-31 17:24:05.166831360</td>\n",
       "      <td>2023-05-31 17:23:05.769742336</td>\n",
       "    </tr>\n",
       "    <tr>\n",
       "      <th>5</th>\n",
       "      <td></td>\n",
       "      <td>0.816762</td>\n",
       "      <td>0 days 00:00:00.000241111</td>\n",
       "      <td></td>\n",
       "      <td>velocity</td>\n",
       "      <td>time, distance</td>\n",
       "      <td>360.192001</td>\n",
       "      <td>0.816762</td>\n",
       "      <td>TERRA15</td>\n",
       "      <td>5</td>\n",
       "      <td>TrebleIISystem04</td>\n",
       "      <td></td>\n",
       "      <td>/UTC-YMD20230531-HMS164210.544/DASRCN_hammer_v...</td>\n",
       "      <td></td>\n",
       "      <td></td>\n",
       "      <td>2023-05-31 17:04:54.521859584</td>\n",
       "      <td>2023-05-31 17:00:21.710207232</td>\n",
       "    </tr>\n",
       "    <tr>\n",
       "      <th>6</th>\n",
       "      <td></td>\n",
       "      <td>0.816762</td>\n",
       "      <td>0 days 00:00:00.000241111</td>\n",
       "      <td></td>\n",
       "      <td>velocity</td>\n",
       "      <td>time, distance</td>\n",
       "      <td>360.192001</td>\n",
       "      <td>0.816762</td>\n",
       "      <td>TERRA15</td>\n",
       "      <td>5</td>\n",
       "      <td>TrebleIISystem04</td>\n",
       "      <td></td>\n",
       "      <td>/UTC-YMD20230531-HMS164210.544/DASRCN_hammer_v...</td>\n",
       "      <td></td>\n",
       "      <td></td>\n",
       "      <td>2023-05-31 16:46:43.274415104</td>\n",
       "      <td>2023-05-31 16:42:10.462842624</td>\n",
       "    </tr>\n",
       "    <tr>\n",
       "      <th>7</th>\n",
       "      <td></td>\n",
       "      <td>0.816762</td>\n",
       "      <td>0 days 00:00:00.000241111</td>\n",
       "      <td></td>\n",
       "      <td>velocity</td>\n",
       "      <td>time, distance</td>\n",
       "      <td>360.192001</td>\n",
       "      <td>0.816762</td>\n",
       "      <td>TERRA15</td>\n",
       "      <td>5</td>\n",
       "      <td>TrebleIISystem04</td>\n",
       "      <td></td>\n",
       "      <td>/UTC-YMD20230531-HMS164210.544/DASRCN_hammer_v...</td>\n",
       "      <td></td>\n",
       "      <td></td>\n",
       "      <td>2023-05-31 17:14:00.145691136</td>\n",
       "      <td>2023-05-31 17:09:27.334000640</td>\n",
       "    </tr>\n",
       "    <tr>\n",
       "      <th>8</th>\n",
       "      <td></td>\n",
       "      <td>0.816762</td>\n",
       "      <td>0 days 00:00:00.000241111</td>\n",
       "      <td></td>\n",
       "      <td>velocity</td>\n",
       "      <td>time, distance</td>\n",
       "      <td>360.192001</td>\n",
       "      <td>0.816762</td>\n",
       "      <td>TERRA15</td>\n",
       "      <td>5</td>\n",
       "      <td>TrebleIISystem04</td>\n",
       "      <td></td>\n",
       "      <td>/UTC-YMD20230531-HMS164210.544/DASRCN_hammer_v...</td>\n",
       "      <td></td>\n",
       "      <td></td>\n",
       "      <td>2023-05-31 16:55:48.898088192</td>\n",
       "      <td>2023-05-31 16:51:16.086487808</td>\n",
       "    </tr>\n",
       "    <tr>\n",
       "      <th>9</th>\n",
       "      <td></td>\n",
       "      <td>0.816762</td>\n",
       "      <td>0 days 00:00:00.000241111</td>\n",
       "      <td></td>\n",
       "      <td>velocity</td>\n",
       "      <td>time, distance</td>\n",
       "      <td>360.192001</td>\n",
       "      <td>0.816762</td>\n",
       "      <td>TERRA15</td>\n",
       "      <td>5</td>\n",
       "      <td>TrebleIISystem04</td>\n",
       "      <td></td>\n",
       "      <td>/UTC-YMD20230531-HMS164210.544/DASRCN_hammer_v...</td>\n",
       "      <td></td>\n",
       "      <td></td>\n",
       "      <td>2023-05-31 16:51:16.086246656</td>\n",
       "      <td>2023-05-31 16:46:43.274656000</td>\n",
       "    </tr>\n",
       "  </tbody>\n",
       "</table>\n",
       "</div>"
      ],
      "text/plain": [
       "  cable_id  d_distance                    d_time data_category data_type  \\\n",
       "0             0.816762 0 days 00:00:00.000241111                velocity   \n",
       "1             0.816762 0 days 00:00:00.000241111                velocity   \n",
       "2             0.816762 0 days 00:00:00.000241111                velocity   \n",
       "3             0.816762 0 days 00:00:00.000241111                velocity   \n",
       "4             0.816762 0 days 00:00:00.000241111                velocity   \n",
       "5             0.816762 0 days 00:00:00.000241111                velocity   \n",
       "6             0.816762 0 days 00:00:00.000241111                velocity   \n",
       "7             0.816762 0 days 00:00:00.000241111                velocity   \n",
       "8             0.816762 0 days 00:00:00.000241111                velocity   \n",
       "9             0.816762 0 days 00:00:00.000241111                velocity   \n",
       "\n",
       "             dims  distance_max  distance_min file_format file_version  \\\n",
       "0  time, distance    360.192001      0.816762     TERRA15            5   \n",
       "1  time, distance    360.192001      0.816762     TERRA15            5   \n",
       "2  time, distance    360.192001      0.816762     TERRA15            5   \n",
       "3  time, distance    360.192001      0.816762     TERRA15            5   \n",
       "4  time, distance    360.192001      0.816762     TERRA15            5   \n",
       "5  time, distance    360.192001      0.816762     TERRA15            5   \n",
       "6  time, distance    360.192001      0.816762     TERRA15            5   \n",
       "7  time, distance    360.192001      0.816762     TERRA15            5   \n",
       "8  time, distance    360.192001      0.816762     TERRA15            5   \n",
       "9  time, distance    360.192001      0.816762     TERRA15            5   \n",
       "\n",
       "      instrument_id network  \\\n",
       "0  TrebleIISystem04           \n",
       "1  TrebleIISystem04           \n",
       "2  TrebleIISystem04           \n",
       "3  TrebleIISystem04           \n",
       "4  TrebleIISystem04           \n",
       "5  TrebleIISystem04           \n",
       "6  TrebleIISystem04           \n",
       "7  TrebleIISystem04           \n",
       "8  TrebleIISystem04           \n",
       "9  TrebleIISystem04           \n",
       "\n",
       "                                                path station tag  \\\n",
       "0  /UTC-YMD20230531-HMS164210.544/DASRCN_hammer_v...               \n",
       "1  /UTC-YMD20230531-HMS164210.544/DASRCN_hammer_v...               \n",
       "2  /UTC-YMD20230531-HMS164210.544/DASRCN_hammer_v...               \n",
       "3  /UTC-YMD20230531-HMS164210.544/DASRCN_hammer_v...               \n",
       "4  /UTC-YMD20230531-HMS164210.544/DASRCN_hammer_v...               \n",
       "5  /UTC-YMD20230531-HMS164210.544/DASRCN_hammer_v...               \n",
       "6  /UTC-YMD20230531-HMS164210.544/DASRCN_hammer_v...               \n",
       "7  /UTC-YMD20230531-HMS164210.544/DASRCN_hammer_v...               \n",
       "8  /UTC-YMD20230531-HMS164210.544/DASRCN_hammer_v...               \n",
       "9  /UTC-YMD20230531-HMS164210.544/DASRCN_hammer_v...               \n",
       "\n",
       "                       time_max                      time_min  \n",
       "0 2023-05-31 17:18:32.957606912 2023-05-31 17:14:00.145932288  \n",
       "1 2023-05-31 17:00:21.709966080 2023-05-31 16:55:48.898329344  \n",
       "2 2023-05-31 17:09:27.333759488 2023-05-31 17:04:54.522100736  \n",
       "3 2023-05-31 17:23:05.769501184 2023-05-31 17:18:32.957847808  \n",
       "4 2023-05-31 17:24:05.166831360 2023-05-31 17:23:05.769742336  \n",
       "5 2023-05-31 17:04:54.521859584 2023-05-31 17:00:21.710207232  \n",
       "6 2023-05-31 16:46:43.274415104 2023-05-31 16:42:10.462842624  \n",
       "7 2023-05-31 17:14:00.145691136 2023-05-31 17:09:27.334000640  \n",
       "8 2023-05-31 16:55:48.898088192 2023-05-31 16:51:16.086487808  \n",
       "9 2023-05-31 16:51:16.086246656 2023-05-31 16:46:43.274656000  "
      ]
     },
     "metadata": {},
     "output_type": "display_data"
    }
   ],
   "source": [
    "#choose the folder of your dataset. The data format should be supported by dascore.\n",
    "datapath = '/Users/gjin_a/Library/CloudStorage/OneDrive-ColoradoSchoolofMines/Research/Presentations/00 Previous Presentations/202305 DASRCN Workshop/Field Data/DASRCN_hammer'\n",
    "\n",
    "# generate dascore folder spool from the datapath\n",
    "sp = dc.spool(datapath)\n",
    "\n",
    "# optional, if you only want to process a certain range of the dataset\n",
    "# sp = sp.select(time=('2023-05-31 17:18:33','2023-05-31 17:20:33'))\n",
    "\n",
    "# optional, check whether the dataset has been successfully loaded \n",
    "display(sp.get_contents())\n"
   ]
  },
  {
   "cell_type": "markdown",
   "id": "3634ca7e",
   "metadata": {},
   "source": [
    "# Define pre-processing function (Optional)\n",
    "\n",
    "\n",
    " if the data need to be pre-processed before the processing, you can define a pre-process \n",
    " function here. It is important to include **kargs as the function input. The pre-process function must return\n",
    " a dascore patch object. "
   ]
  },
  {
   "cell_type": "code",
   "execution_count": 3,
   "id": "0bf52119",
   "metadata": {},
   "outputs": [],
   "source": [
    "\n",
    "# In this case, because the data were recorded using Terra15 interrogator in velocity format, a velocity to \n",
    "# strain rate conversion is needed. \n",
    "\n",
    "def pre_fun(patch, **kargs):\n",
    "    return patch.tran.velocity_to_strain_rate()"
   ]
  },
  {
   "cell_type": "markdown",
   "id": "804ed72a",
   "metadata": {},
   "source": [
    "# Define output folder and processing parameters"
   ]
  },
  {
   "cell_type": "code",
   "execution_count": 4,
   "id": "33dc57be",
   "metadata": {},
   "outputs": [
    {
     "name": "stdout",
     "output_type": "stream",
     "text": [
      "Folder './processed_data' exists. Do you want to delete it? (y/n): y\n",
      "Folder './processed_data' deleted successfully.\n"
     ]
    }
   ],
   "source": [
    "processed_folder = './processed_data'\n",
    "process.check_folder(processed_folder) # if the folder exists, this command will ask the user to delete the folder"
   ]
  },
  {
   "cell_type": "code",
   "execution_count": 5,
   "id": "097c0e3f",
   "metadata": {},
   "outputs": [],
   "source": [
    "# define processing class\n",
    "p = process.MultiResProcess()\n",
    "\n",
    "# set the path of raw data\n",
    "p.set_raw_spool(sp)\n",
    "\n",
    "# set the path of processed data\n",
    "p.set_target_path(processed_folder)\n",
    "\n",
    "# set pre-processing function before the actual processing\n",
    "p.set_pre_process(pre_fun)\n",
    "\n",
    "# determine the downsampling rate between the resolutions. In this case each resolution will decrease the data size\n",
    "# by a factor of 5\n",
    "p.set_downsample_factor(5)"
   ]
  },
  {
   "cell_type": "markdown",
   "id": "c116b17c",
   "metadata": {},
   "source": [
    "# Run the processing"
   ]
  },
  {
   "cell_type": "code",
   "execution_count": 6,
   "id": "840c9bed",
   "metadata": {},
   "outputs": [
    {
     "name": "stdout",
     "output_type": "stream",
     "text": [
      "./processed_data does not exist, created one\n",
      "18356.172888125388\n",
      "./processed_data/1\n",
      "Chunk size: 136.99488636363634 s, Overlap: 0.03992806799999998 s\n",
      "Found 1 continuous datasets\n"
     ]
    },
    {
     "data": {
      "application/vnd.jupyter.widget-view+json": {
       "model_id": "6c22e7ef7669443fa6b9658aa79f9a9d",
       "version_major": 2,
       "version_minor": 0
      },
      "text/plain": [
       "Spool Loop: 0it [00:00, ?it/s]"
      ]
     },
     "metadata": {},
     "output_type": "display_data"
    },
    {
     "data": {
      "application/vnd.jupyter.widget-view+json": {
       "model_id": "",
       "version_major": 2,
       "version_minor": 0
      },
      "text/plain": [
       "Patch Loop:   0%|          | 0/19 [00:00<?, ?it/s]"
      ]
     },
     "metadata": {},
     "output_type": "display_data"
    },
    {
     "data": {
      "application/vnd.jupyter.widget-view+json": {
       "model_id": "c1aca8bb7b9d422b975ccf3e2737a26f",
       "version_major": 2,
       "version_minor": 0
      },
      "text/plain": [
       "Output()"
      ]
     },
     "metadata": {},
     "output_type": "display_data"
    },
    {
     "data": {
      "text/html": [
       "<pre style=\"white-space:pre;overflow-x:auto;line-height:normal;font-family:Menlo,'DejaVu Sans Mono',consolas,'Courier New',monospace\"></pre>\n"
      ],
      "text/plain": []
     },
     "metadata": {},
     "output_type": "display_data"
    },
    {
     "data": {
      "text/html": [
       "<pre style=\"white-space:pre;overflow-x:auto;line-height:normal;font-family:Menlo,'DejaVu Sans Mono',consolas,'Courier New',monospace\">\n",
       "</pre>\n"
      ],
      "text/plain": [
       "\n"
      ]
     },
     "metadata": {},
     "output_type": "display_data"
    },
    {
     "name": "stdout",
     "output_type": "stream",
     "text": [
      "3662.782452\n",
      "./processed_data/2\n",
      "Chunk size: 686.5341685649202 s, Overlap: 0.20253307199999998 s\n",
      "Found 1 continuous datasets\n"
     ]
    },
    {
     "data": {
      "application/vnd.jupyter.widget-view+json": {
       "model_id": "a90a88e3033246f09dff25d64e65d03a",
       "version_major": 2,
       "version_minor": 0
      },
      "text/plain": [
       "Spool Loop: 0it [00:00, ?it/s]"
      ]
     },
     "metadata": {},
     "output_type": "display_data"
    },
    {
     "data": {
      "application/vnd.jupyter.widget-view+json": {
       "model_id": "",
       "version_major": 2,
       "version_minor": 0
      },
      "text/plain": [
       "Patch Loop:   0%|          | 0/4 [00:00<?, ?it/s]"
      ]
     },
     "metadata": {},
     "output_type": "display_data"
    },
    {
     "data": {
      "application/vnd.jupyter.widget-view+json": {
       "model_id": "792a8eead25a4d8790e327dc95aff470",
       "version_major": 2,
       "version_minor": 0
      },
      "text/plain": [
       "Output()"
      ]
     },
     "metadata": {},
     "output_type": "display_data"
    },
    {
     "name": "stdout",
     "output_type": "stream",
     "text": [
      "processing succeeded\n"
     ]
    },
    {
     "data": {
      "text/html": [
       "<pre style=\"white-space:pre;overflow-x:auto;line-height:normal;font-family:Menlo,'DejaVu Sans Mono',consolas,'Courier New',monospace\"></pre>\n"
      ],
      "text/plain": []
     },
     "metadata": {},
     "output_type": "display_data"
    },
    {
     "data": {
      "text/html": [
       "<pre style=\"white-space:pre;overflow-x:auto;line-height:normal;font-family:Menlo,'DejaVu Sans Mono',consolas,'Courier New',monospace\">\n",
       "</pre>\n"
      ],
      "text/plain": [
       "\n"
      ]
     },
     "metadata": {},
     "output_type": "display_data"
    },
    {
     "name": "stdout",
     "output_type": "stream",
     "text": [
      "732.49784\n",
      "./processed_data/3\n",
      "Chunk size: 3432.670842824601 s, Overlap: 0.9981987984000003 s\n",
      "Found 1 continuous datasets\n"
     ]
    },
    {
     "data": {
      "application/vnd.jupyter.widget-view+json": {
       "model_id": "7aab414fa63f422c967eb23d496877c2",
       "version_major": 2,
       "version_minor": 0
      },
      "text/plain": [
       "Spool Loop: 0it [00:00, ?it/s]"
      ]
     },
     "metadata": {},
     "output_type": "display_data"
    },
    {
     "data": {
      "application/vnd.jupyter.widget-view+json": {
       "model_id": "",
       "version_major": 2,
       "version_minor": 0
      },
      "text/plain": [
       "Patch Loop:   0%|          | 0/1 [00:00<?, ?it/s]"
      ]
     },
     "metadata": {},
     "output_type": "display_data"
    },
    {
     "data": {
      "application/vnd.jupyter.widget-view+json": {
       "model_id": "4f4753bc75d14039829c5a813cc0f367",
       "version_major": 2,
       "version_minor": 0
      },
      "text/plain": [
       "Output()"
      ]
     },
     "metadata": {},
     "output_type": "display_data"
    },
    {
     "name": "stdout",
     "output_type": "stream",
     "text": [
      "processing succeeded\n"
     ]
    },
    {
     "data": {
      "text/html": [
       "<pre style=\"white-space:pre;overflow-x:auto;line-height:normal;font-family:Menlo,'DejaVu Sans Mono',consolas,'Courier New',monospace\"></pre>\n"
      ],
      "text/plain": []
     },
     "metadata": {},
     "output_type": "display_data"
    },
    {
     "data": {
      "text/html": [
       "<pre style=\"white-space:pre;overflow-x:auto;line-height:normal;font-family:Menlo,'DejaVu Sans Mono',consolas,'Courier New',monospace\">\n",
       "</pre>\n"
      ],
      "text/plain": [
       "\n"
      ]
     },
     "metadata": {},
     "output_type": "display_data"
    },
    {
     "name": "stdout",
     "output_type": "stream",
     "text": [
      "146.439864\n"
     ]
    }
   ],
   "source": [
    "p.downsample_process()"
   ]
  },
  {
   "cell_type": "code",
   "execution_count": null,
   "id": "95399f51",
   "metadata": {},
   "outputs": [],
   "source": []
  }
 ],
 "metadata": {
  "kernelspec": {
   "display_name": "Python 3 (ipykernel)",
   "language": "python",
   "name": "python3"
  },
  "language_info": {
   "codemirror_mode": {
    "name": "ipython",
    "version": 3
   },
   "file_extension": ".py",
   "mimetype": "text/x-python",
   "name": "python",
   "nbconvert_exporter": "python",
   "pygments_lexer": "ipython3",
   "version": "3.10.9"
  }
 },
 "nbformat": 4,
 "nbformat_minor": 5
}
